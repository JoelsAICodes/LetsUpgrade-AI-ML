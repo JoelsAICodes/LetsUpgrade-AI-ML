{
 "cells": [
  {
   "cell_type": "code",
   "execution_count": 10,
   "metadata": {},
   "outputs": [
    {
     "name": "stdout",
     "output_type": "stream",
     "text": [
      "Enter real Number : 5\n",
      "Enter Imaginary Number : 3\n",
      "Enter real Number : 2\n",
      "Enter Imaginary Number : 1\n",
      "Subtraction of two complex numbers  (3+2j) - (1+1j) is (3+2j)\n"
     ]
    }
   ],
   "source": [
    "\n",
    "# 1 Program to suntract two complex numbers\n",
    "\n",
    "x1 = int(input(\"Enter real Number : \"))\n",
    "x2 = int(input(\"Enter Imaginary Number : \"))\n",
    "x3 = int(input(\"Enter real Number : \"))\n",
    "x4 = int(input(\"Enter Imaginary Number : \"))\n",
    "\n",
    "o1 = complex(x1, x2)\n",
    "o2 = complex(x3, x4)\n",
    "subtract = o1-o2\n",
    "print(\"Subtraction of two complex numbers  {} - {} is {}\".format(z1, z2, subtract))"
   ]
  },
  {
   "cell_type": "code",
   "execution_count": 11,
   "metadata": {},
   "outputs": [
    {
     "name": "stdout",
     "output_type": "stream",
     "text": [
      "Enter number: 256\n",
      "The 4th root of n1 is  4.0\n"
     ]
    }
   ],
   "source": [
    "# 2 Program to find the th root of a number\n",
    "n1=float(input(\"Enter number: \"))\n",
    "print(\"The 4th root of n1 is \",n1**0.25)"
   ]
  },
  {
   "cell_type": "code",
   "execution_count": 13,
   "metadata": {},
   "outputs": [
    {
     "name": "stdout",
     "output_type": "stream",
     "text": [
      "Enter first number: 10\n",
      "Enter second number: 20\n",
      "x1 after swapping: 20\n",
      "x2 after swapping: 10\n"
     ]
    }
   ],
   "source": [
    "#Question 3\n",
    "# Program to swap two numbers using temporary variables\n",
    "a = input('Enter first number: ')\n",
    "b = input('Enter second number: ')\n",
    "\n",
    "# create a temporary variable and swap the values\n",
    "temp = a\n",
    "a = b\n",
    "b = temp\n",
    "\n",
    "print('x1 after swapping: {}'.format(a))\n",
    "print('x2 after swapping: {}'.format(b))"
   ]
  },
  {
   "cell_type": "code",
   "execution_count": 15,
   "metadata": {},
   "outputs": [
    {
     "name": "stdout",
     "output_type": "stream",
     "text": [
      "Enter first number: 200\n",
      "Enter second number: 100\n",
      "a = 100\n",
      "b = 200\n"
     ]
    }
   ],
   "source": [
    "\n",
    "# Question 4 Program to swap two numbers without using temporary variables\n",
    "a1 = input('Enter first number: ')\n",
    "b1 = input('Enter second number: ')\n",
    "a1, b1 = b1, a1\n",
    "print(\"a =\", a1)\n",
    "print(\"b =\", b1)"
   ]
  },
  {
   "cell_type": "code",
   "execution_count": 9,
   "metadata": {},
   "outputs": [
    {
     "name": "stdout",
     "output_type": "stream",
     "text": [
      "Enter temperature in fahrenheit: 1\n",
      "1.0 F =  -17.22222222222222  Celcius or  255.77777777777777 Kelvin\n"
     ]
    }
   ],
   "source": [
    "#Question 5 Program to convert fahrenheit to kelvin and celsius both\n",
    "f = float(input(\"Enter temperature in fahrenheit: \"))\n",
    "c = (f-32)/1.8\n",
    "k = c + 273\n",
    "print(f, \"F = \",c,\" Celcius or \",k,\"Kelvin\")"
   ]
  },
  {
   "cell_type": "code",
   "execution_count": 18,
   "metadata": {},
   "outputs": [
    {
     "name": "stdout",
     "output_type": "stream",
     "text": [
      "<class 'str'>\n",
      "<class 'int'>\n",
      "<class 'bool'>\n",
      "<class 'tuple'>\n",
      "<class 'list'>\n",
      "<class 'dict'>\n",
      "<class 'set'>\n",
      "<class 'NoneType'>\n",
      "<class 'complex'>\n"
     ]
    }
   ],
   "source": [
    "#Question 6 Program to demonstrate all the available data types in Python.\n",
    "v1 = \"Hello there\"\n",
    "v2 = 10\n",
    "v3 = True\n",
    "v4 = (1,4)\n",
    "v5 = [7,8,9]\n",
    "v6 = {\"book\":40,\"soap\":2,\"ball\":14}\n",
    "v7={5, 7, 'LU'}\n",
    "v8=(None)\n",
    "v9= 5+2j\n",
    "v = (v1,v2,v3,v4,v5,v6,v7,v8,v9)\n",
    "for i in v:\n",
    "    print(\"\"type(i))"
   ]
  },
  {
   "cell_type": "raw",
   "metadata": {},
   "source": [
    "How to submit Assignments?\n",
    "1. Create a Github public repo and name it LetsUpgrade AI/ML\n",
    "2. Upload the solutions wrt days in the repo  .\n",
    "3. Then Copy the URL of the github Folder of that day and paste in Google Form and submit\n",
    "\n"
   ]
  }
 ],
 "metadata": {
  "kernelspec": {
   "display_name": "Python 3",
   "language": "python",
   "name": "python3"
  },
  "language_info": {
   "codemirror_mode": {
    "name": "ipython",
    "version": 3
   },
   "file_extension": ".py",
   "mimetype": "text/x-python",
   "name": "python",
   "nbconvert_exporter": "python",
   "pygments_lexer": "ipython3",
   "version": "3.7.0"
  }
 },
 "nbformat": 4,
 "nbformat_minor": 2
}
