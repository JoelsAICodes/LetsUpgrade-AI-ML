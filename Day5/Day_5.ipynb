{
 "cells": [
  {
   "cell_type": "markdown",
   "metadata": {},
   "source": [
    "# Question 1\n",
    "### Write a Python program to find the first 20 non-even prime natural numbers"
   ]
  },
  {
   "cell_type": "code",
   "execution_count": 16,
   "metadata": {},
   "outputs": [
    {
     "name": "stdout",
     "output_type": "stream",
     "text": [
      "[3, 5, 7, 11, 13, 17, 19, 23, 29, 31, 37, 41, 43, 47, 53, 59, 61, 67, 71, 73]\n"
     ]
    }
   ],
   "source": [
    "# A program to print first 20 non even Numbers\n",
    "  \n",
    "non_even_prime_numbers = []\n",
    "for number in range(2, 100):\n",
    "    for i in range(2, number):\n",
    "        if (number % i) == 0:\n",
    "            break\n",
    "    else:\n",
    "        if len(non_even_prime_numbers) == 20:\n",
    "            break\n",
    "        else:\n",
    "            if number % 2 !=0:\n",
    "                non_even_prime_numbers.append(number)\n",
    "\n",
    "print(non_even_prime_numbers)  "
   ]
  },
  {
   "cell_type": "markdown",
   "metadata": {},
   "source": [
    "# Question 2 \n",
    "### Write a Python program to implement 15 functions of string"
   ]
  },
  {
   "cell_type": "code",
   "execution_count": 14,
   "metadata": {},
   "outputs": [
    {
     "name": "stdout",
     "output_type": "stream",
     "text": [
      "Find an index of a charecter e in the string  :  1\n",
      "Case fold : lets upgrade\n",
      "Swap Case :  lETS uPGRADE\n",
      "Upper : LETS UPGRADE\n",
      "Lower :  lets upgrade\n",
      "String end with d : False\n",
      "Find an index position of  charecter p in a string 6\n",
      "Chcek if the string is alphanumeric False\n",
      "Check if all the charecters are alphabet letters :  False\n",
      "Check if the phrase \"ets\" is present in Lets Upgrade  True\n",
      "Chcek if all charecters are digit :  False\n",
      "Check if the string is in uppercase : False\n",
      "Check if the string is in lowercase : False\n",
      "count of character a in the string : 1\n",
      "repleace a maching with a string :  Welcome to Lets Upgrade\n"
     ]
    }
   ],
   "source": [
    "s = \"Lets Upgrade\"\n",
    "\n",
    "print('Find an index of a charecter e in the string  : ', s.index('e'))\n",
    "print('Case fold :', s.casefold())\n",
    "print('Swap Case : ', s.swapcase())\n",
    "print('Upper :', s.upper())\n",
    "print('Lower : ',s.lower())\n",
    "print('String end with d :' , s.endswith('d'))\n",
    "print('Find an index position of  charecter p in a string', s.find('p'))\n",
    "print ('Chcek if the string is alphanumeric', s.isalnum())\n",
    "print('Check if all the charecters are alphabet letters : ',s.isalpha() )\n",
    "print ('Check if the phrase \"ets\" is present in Lets Upgrade ', \"ets\" in s)\n",
    "print('Chcek if all charecters are digit : ', s.isdigit() )\n",
    "print('Check if the string is in uppercase :', s.isupper())\n",
    "print('Check if the string is in lowercase :', s.islower() )\n",
    "print('count of character a in the string :', s.count('a') )\n",
    "print ('repleace a maching with a string : ', s.replace('Lets',\"Welcome to Lets\"))\n"
   ]
  },
  {
   "cell_type": "markdown",
   "metadata": {},
   "source": [
    "# Question 3\n",
    "### Write a Python program to check if the given string is a Palindrome or Anagram or None of them. Display the message accordingly to the user"
   ]
  },
  {
   "cell_type": "code",
   "execution_count": 15,
   "metadata": {},
   "outputs": [
    {
     "name": "stdout",
     "output_type": "stream",
     "text": [
      "level is Palindrome\n",
      "Listen and Silent are Anagram\n",
      "None of them\n"
     ]
    }
   ],
   "source": [
    "def check_word_type(s1, s2 = ''):\n",
    "    if s1.upper() == s1.upper()[::-1]:\n",
    "        print(s1,  'is Palindrome')\n",
    "    elif sorted(s1.upper().replace(' ','')) == sorted(s2.upper().replace(' ','')):\n",
    "        print(s1, 'and', s2,  'are Anagram')\n",
    "    else:\n",
    "        print(\"None of them\")\n",
    "        \n",
    "# Check Palindrome\n",
    "check_word_type(\"level\")\n",
    "\n",
    "# Check Anagram\n",
    "check_word_type(\"Listen\", \"Silent\")\n",
    "\n",
    "#Try 3\n",
    "check_word_type(\"Random\")"
   ]
  },
  {
   "cell_type": "markdown",
   "metadata": {},
   "source": [
    "# Question 4:\n",
    "### Write a Python's user defined function that removes all the additional characters from the string and converts it finally to lower case using built-in lower(). eg: If the string is \"Dr. Darshan Ingle@AI-ML Trainer\", then the output be \"drdarshaningleaimltrainer\""
   ]
  },
  {
   "cell_type": "code",
   "execution_count": 32,
   "metadata": {},
   "outputs": [
    {
     "name": "stdout",
     "output_type": "stream",
     "text": [
      "drdarshaningleaimltrainer\n"
     ]
    }
   ],
   "source": [
    "input_string = \"Dr. Darshan Ingle@AI-ML Trainer\".lower()\n",
    "output_string = \"\"\n",
    "for char in input_string:\n",
    "    if char.isalnum():\n",
    "        output_string += char\n",
    "        \n",
    "print(output_string)"
   ]
  },
  {
   "cell_type": "code",
   "execution_count": null,
   "metadata": {},
   "outputs": [],
   "source": []
  }
 ],
 "metadata": {
  "kernelspec": {
   "display_name": "Python 3",
   "language": "python",
   "name": "python3"
  },
  "language_info": {
   "codemirror_mode": {
    "name": "ipython",
    "version": 3
   },
   "file_extension": ".py",
   "mimetype": "text/x-python",
   "name": "python",
   "nbconvert_exporter": "python",
   "pygments_lexer": "ipython3",
   "version": "3.7.0"
  }
 },
 "nbformat": 4,
 "nbformat_minor": 4
}
